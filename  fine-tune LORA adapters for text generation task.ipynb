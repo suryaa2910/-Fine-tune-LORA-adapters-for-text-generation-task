{
  "metadata": {
    "kaggle": {
      "accelerator": "nvidiaTeslaT4",
      "dataSources": [],
      "dockerImageVersionId": 30674,
      "isInternetEnabled": true,
      "language": "python",
      "sourceType": "notebook",
      "isGpuEnabled": true
    },
    "kernelspec": {
      "display_name": "Python 3",
      "language": "python",
      "name": "python3"
    },
    "language_info": {
      "name": "python",
      "version": "3.10.13",
      "mimetype": "text/x-python",
      "codemirror_mode": {
        "name": "ipython",
        "version": 3
      },
      "pygments_lexer": "ipython3",
      "nbconvert_exporter": "python",
      "file_extension": ".py"
    },
    "papermill": {
      "default_parameters": {},
      "duration": 22891.408501,
      "end_time": "2024-01-21T00:10:21.972042",
      "environment_variables": {},
      "exception": null,
      "input_path": "__notebook__.ipynb",
      "output_path": "__notebook__.ipynb",
      "parameters": {},
      "start_time": "2024-01-20T17:48:50.563541",
      "version": "2.4.0"
    },
    "colab": {
      "provenance": [],
      "include_colab_link": true
    }
  },
  "nbformat_minor": 5,
  "nbformat": 4,
  "cells": [
    {
      "cell_type": "markdown",
      "metadata": {
        "id": "view-in-github",
        "colab_type": "text"
      },
      "source": [
        "<a href=\"https://colab.research.google.com/github/suryaa2910/-Fine-tune-LORA-adapters-for-text-generation-task/blob/main/%20fine-tune%20LORA%20adapters%20for%20text%20generation%20task.ipynb\" target=\"_parent\"><img src=\"https://colab.research.google.com/assets/colab-badge.svg\" alt=\"Open In Colab\"/></a>"
      ]
    },
    {
      "cell_type": "markdown",
      "source": [
        "**Zocket _ Task 1:**\n",
        "\n",
        "**Problem Statement:**\n",
        "Develop a Google Colab notebook to fine-tune LORA adapters for text generation task with either a 3B model or a smaller model that accommodates the available GPU RAM. Utilise Hugging Face and PyTorch for implementation, and incorporate WandB for logging purposes. Provide the notebook link, wandb project link and include a screenshot of the convergence graph. You can pick any dataset for a creative text generation task and you should report the perplexity metric\n",
        "\n",
        "**Model Selected:** bigscience/bloomz-560m\n",
        "\n",
        "**Dataset Selected:** Amazon Polarity"
      ],
      "metadata": {
        "id": "sqcArul2Ak7E"
      },
      "id": "sqcArul2Ak7E"
    },
    {
      "cell_type": "code",
      "source": [
        "!pip install transformers==4.36.2\n",
        "!pip install accelerate==0.25.0\n",
        "!pip install datasets==2.15.0\n",
        "!pip install peft==0.7.1\n",
        "!pip install bitsandbytes==0.41.3\n",
        "!pip install trl==0.7.7\n",
        "!pip install tqdm==4.66.1\n",
        "!pip install flash-attn==2.4.2"
      ],
      "metadata": {
        "papermill": {
          "duration": 118.021987,
          "end_time": "2024-01-20T17:50:52.779577",
          "exception": false,
          "start_time": "2024-01-20T17:48:54.757590",
          "status": "completed"
        },
        "tags": [],
        "id": "cda7cd5c",
        "outputId": "63893a8f-16bb-4dc4-e194-858fdada8d04",
        "execution": {
          "iopub.status.busy": "2024-03-24T08:24:50.888878Z",
          "iopub.execute_input": "2024-03-24T08:24:50.889248Z",
          "iopub.status.idle": "2024-03-24T08:27:07.172688Z",
          "shell.execute_reply.started": "2024-03-24T08:24:50.889219Z",
          "shell.execute_reply": "2024-03-24T08:27:07.171726Z"
        },
        "trusted": true
      },
      "execution_count": null,
      "outputs": [
        {
          "name": "stdout",
          "text": "Collecting transformers==4.36.2\n  Downloading transformers-4.36.2-py3-none-any.whl.metadata (126 kB)\n\u001b[2K     \u001b[90m━━━━━━━━━━━━━━━━━━━━━━━━━━━━━━━━━━━━━━━\u001b[0m \u001b[32m126.8/126.8 kB\u001b[0m \u001b[31m1.3 MB/s\u001b[0m eta \u001b[36m0:00:00\u001b[0ma \u001b[36m0:00:01\u001b[0m\n\u001b[?25hRequirement already satisfied: filelock in /opt/conda/lib/python3.10/site-packages (from transformers==4.36.2) (3.13.1)\nRequirement already satisfied: huggingface-hub<1.0,>=0.19.3 in /opt/conda/lib/python3.10/site-packages (from transformers==4.36.2) (0.21.4)\nRequirement already satisfied: numpy>=1.17 in /opt/conda/lib/python3.10/site-packages (from transformers==4.36.2) (1.26.4)\nRequirement already satisfied: packaging>=20.0 in /opt/conda/lib/python3.10/site-packages (from transformers==4.36.2) (21.3)\nRequirement already satisfied: pyyaml>=5.1 in /opt/conda/lib/python3.10/site-packages (from transformers==4.36.2) (6.0.1)\nRequirement already satisfied: regex!=2019.12.17 in /opt/conda/lib/python3.10/site-packages (from transformers==4.36.2) (2023.12.25)\nRequirement already satisfied: requests in /opt/conda/lib/python3.10/site-packages (from transformers==4.36.2) (2.31.0)\nRequirement already satisfied: tokenizers<0.19,>=0.14 in /opt/conda/lib/python3.10/site-packages (from transformers==4.36.2) (0.15.2)\nRequirement already satisfied: safetensors>=0.3.1 in /opt/conda/lib/python3.10/site-packages (from transformers==4.36.2) (0.4.2)\nRequirement already satisfied: tqdm>=4.27 in /opt/conda/lib/python3.10/site-packages (from transformers==4.36.2) (4.66.1)\nRequirement already satisfied: fsspec>=2023.5.0 in /opt/conda/lib/python3.10/site-packages (from huggingface-hub<1.0,>=0.19.3->transformers==4.36.2) (2024.3.0)\nRequirement already satisfied: typing-extensions>=3.7.4.3 in /opt/conda/lib/python3.10/site-packages (from huggingface-hub<1.0,>=0.19.3->transformers==4.36.2) (4.9.0)\nRequirement already satisfied: pyparsing!=3.0.5,>=2.0.2 in /opt/conda/lib/python3.10/site-packages (from packaging>=20.0->transformers==4.36.2) (3.1.1)\nRequirement already satisfied: charset-normalizer<4,>=2 in /opt/conda/lib/python3.10/site-packages (from requests->transformers==4.36.2) (3.3.2)\nRequirement already satisfied: idna<4,>=2.5 in /opt/conda/lib/python3.10/site-packages (from requests->transformers==4.36.2) (3.6)\nRequirement already satisfied: urllib3<3,>=1.21.1 in /opt/conda/lib/python3.10/site-packages (from requests->transformers==4.36.2) (1.26.18)\nRequirement already satisfied: certifi>=2017.4.17 in /opt/conda/lib/python3.10/site-packages (from requests->transformers==4.36.2) (2024.2.2)\nDownloading transformers-4.36.2-py3-none-any.whl (8.2 MB)\n\u001b[2K   \u001b[90m━━━━━━━━━━━━━━━━━━━━━━━━━━━━━━━━━━━━━━━━\u001b[0m \u001b[32m8.2/8.2 MB\u001b[0m \u001b[31m32.9 MB/s\u001b[0m eta \u001b[36m0:00:00\u001b[0m00:01\u001b[0m00:01\u001b[0m\n\u001b[?25hInstalling collected packages: transformers\n  Attempting uninstall: transformers\n    Found existing installation: transformers 4.38.2\n    Uninstalling transformers-4.38.2:\n      Successfully uninstalled transformers-4.38.2\nSuccessfully installed transformers-4.36.2\nCollecting accelerate==0.25.0\n  Downloading accelerate-0.25.0-py3-none-any.whl.metadata (18 kB)\nRequirement already satisfied: numpy>=1.17 in /opt/conda/lib/python3.10/site-packages (from accelerate==0.25.0) (1.26.4)\nRequirement already satisfied: packaging>=20.0 in /opt/conda/lib/python3.10/site-packages (from accelerate==0.25.0) (21.3)\nRequirement already satisfied: psutil in /opt/conda/lib/python3.10/site-packages (from accelerate==0.25.0) (5.9.3)\nRequirement already satisfied: pyyaml in /opt/conda/lib/python3.10/site-packages (from accelerate==0.25.0) (6.0.1)\nRequirement already satisfied: torch>=1.10.0 in /opt/conda/lib/python3.10/site-packages (from accelerate==0.25.0) (2.1.2)\nRequirement already satisfied: huggingface-hub in /opt/conda/lib/python3.10/site-packages (from accelerate==0.25.0) (0.21.4)\nRequirement already satisfied: safetensors>=0.3.1 in /opt/conda/lib/python3.10/site-packages (from accelerate==0.25.0) (0.4.2)\nRequirement already satisfied: pyparsing!=3.0.5,>=2.0.2 in /opt/conda/lib/python3.10/site-packages (from packaging>=20.0->accelerate==0.25.0) (3.1.1)\nRequirement already satisfied: filelock in /opt/conda/lib/python3.10/site-packages (from torch>=1.10.0->accelerate==0.25.0) (3.13.1)\nRequirement already satisfied: typing-extensions in /opt/conda/lib/python3.10/site-packages (from torch>=1.10.0->accelerate==0.25.0) (4.9.0)\nRequirement already satisfied: sympy in /opt/conda/lib/python3.10/site-packages (from torch>=1.10.0->accelerate==0.25.0) (1.12)\nRequirement already satisfied: networkx in /opt/conda/lib/python3.10/site-packages (from torch>=1.10.0->accelerate==0.25.0) (3.2.1)\nRequirement already satisfied: jinja2 in /opt/conda/lib/python3.10/site-packages (from torch>=1.10.0->accelerate==0.25.0) (3.1.2)\nRequirement already satisfied: fsspec in /opt/conda/lib/python3.10/site-packages (from torch>=1.10.0->accelerate==0.25.0) (2024.3.0)\nRequirement already satisfied: requests in /opt/conda/lib/python3.10/site-packages (from huggingface-hub->accelerate==0.25.0) (2.31.0)\nRequirement already satisfied: tqdm>=4.42.1 in /opt/conda/lib/python3.10/site-packages (from huggingface-hub->accelerate==0.25.0) (4.66.1)\nRequirement already satisfied: MarkupSafe>=2.0 in /opt/conda/lib/python3.10/site-packages (from jinja2->torch>=1.10.0->accelerate==0.25.0) (2.1.3)\nRequirement already satisfied: charset-normalizer<4,>=2 in /opt/conda/lib/python3.10/site-packages (from requests->huggingface-hub->accelerate==0.25.0) (3.3.2)\nRequirement already satisfied: idna<4,>=2.5 in /opt/conda/lib/python3.10/site-packages (from requests->huggingface-hub->accelerate==0.25.0) (3.6)\nRequirement already satisfied: urllib3<3,>=1.21.1 in /opt/conda/lib/python3.10/site-packages (from requests->huggingface-hub->accelerate==0.25.0) (1.26.18)\nRequirement already satisfied: certifi>=2017.4.17 in /opt/conda/lib/python3.10/site-packages (from requests->huggingface-hub->accelerate==0.25.0) (2024.2.2)\nRequirement already satisfied: mpmath>=0.19 in /opt/conda/lib/python3.10/site-packages (from sympy->torch>=1.10.0->accelerate==0.25.0) (1.3.0)\nDownloading accelerate-0.25.0-py3-none-any.whl (265 kB)\n\u001b[2K   \u001b[90m━━━━━━━━━━━━━━━━━━━━━━━━━━━━━━━━━━━━━━━━\u001b[0m \u001b[32m265.7/265.7 kB\u001b[0m \u001b[31m2.5 MB/s\u001b[0m eta \u001b[36m0:00:00\u001b[0ma \u001b[36m0:00:01\u001b[0mm\n\u001b[?25hInstalling collected packages: accelerate\n  Attempting uninstall: accelerate\n    Found existing installation: accelerate 0.28.0\n    Uninstalling accelerate-0.28.0:\n      Successfully uninstalled accelerate-0.28.0\nSuccessfully installed accelerate-0.25.0\nCollecting datasets==2.15.0\n  Downloading datasets-2.15.0-py3-none-any.whl.metadata (20 kB)\nRequirement already satisfied: numpy>=1.17 in /opt/conda/lib/python3.10/site-packages (from datasets==2.15.0) (1.26.4)\nRequirement already satisfied: pyarrow>=8.0.0 in /opt/conda/lib/python3.10/site-packages (from datasets==2.15.0) (11.0.0)\nCollecting pyarrow-hotfix (from datasets==2.15.0)\n  Downloading pyarrow_hotfix-0.6-py3-none-any.whl.metadata (3.6 kB)\nCollecting dill<0.3.8,>=0.3.0 (from datasets==2.15.0)\n  Downloading dill-0.3.7-py3-none-any.whl.metadata (9.9 kB)\nRequirement already satisfied: pandas in /opt/conda/lib/python3.10/site-packages (from datasets==2.15.0) (2.1.4)\nRequirement already satisfied: requests>=2.19.0 in /opt/conda/lib/python3.10/site-packages (from datasets==2.15.0) (2.31.0)\nRequirement already satisfied: tqdm>=4.62.1 in /opt/conda/lib/python3.10/site-packages (from datasets==2.15.0) (4.66.1)\nRequirement already satisfied: xxhash in /opt/conda/lib/python3.10/site-packages (from datasets==2.15.0) (3.4.1)\nRequirement already satisfied: multiprocess in /opt/conda/lib/python3.10/site-packages (from datasets==2.15.0) (0.70.16)\nCollecting fsspec<=2023.10.0,>=2023.1.0 (from fsspec[http]<=2023.10.0,>=2023.1.0->datasets==2.15.0)\n  Downloading fsspec-2023.10.0-py3-none-any.whl.metadata (6.8 kB)\nRequirement already satisfied: aiohttp in /opt/conda/lib/python3.10/site-packages (from datasets==2.15.0) (3.9.1)\nRequirement already satisfied: huggingface-hub>=0.18.0 in /opt/conda/lib/python3.10/site-packages (from datasets==2.15.0) (0.21.4)\nRequirement already satisfied: packaging in /opt/conda/lib/python3.10/site-packages (from datasets==2.15.0) (21.3)\nRequirement already satisfied: pyyaml>=5.1 in /opt/conda/lib/python3.10/site-packages (from datasets==2.15.0) (6.0.1)\nRequirement already satisfied: attrs>=17.3.0 in /opt/conda/lib/python3.10/site-packages (from aiohttp->datasets==2.15.0) (23.2.0)\nRequirement already satisfied: multidict<7.0,>=4.5 in /opt/conda/lib/python3.10/site-packages (from aiohttp->datasets==2.15.0) (6.0.4)\nRequirement already satisfied: yarl<2.0,>=1.0 in /opt/conda/lib/python3.10/site-packages (from aiohttp->datasets==2.15.0) (1.9.3)\nRequirement already satisfied: frozenlist>=1.1.1 in /opt/conda/lib/python3.10/site-packages (from aiohttp->datasets==2.15.0) (1.4.1)\nRequirement already satisfied: aiosignal>=1.1.2 in /opt/conda/lib/python3.10/site-packages (from aiohttp->datasets==2.15.0) (1.3.1)\nRequirement already satisfied: async-timeout<5.0,>=4.0 in /opt/conda/lib/python3.10/site-packages (from aiohttp->datasets==2.15.0) (4.0.3)\nRequirement already satisfied: filelock in /opt/conda/lib/python3.10/site-packages (from huggingface-hub>=0.18.0->datasets==2.15.0) (3.13.1)\nRequirement already satisfied: typing-extensions>=3.7.4.3 in /opt/conda/lib/python3.10/site-packages (from huggingface-hub>=0.18.0->datasets==2.15.0) (4.9.0)\nRequirement already satisfied: pyparsing!=3.0.5,>=2.0.2 in /opt/conda/lib/python3.10/site-packages (from packaging->datasets==2.15.0) (3.1.1)\nRequirement already satisfied: charset-normalizer<4,>=2 in /opt/conda/lib/python3.10/site-packages (from requests>=2.19.0->datasets==2.15.0) (3.3.2)\nRequirement already satisfied: idna<4,>=2.5 in /opt/conda/lib/python3.10/site-packages (from requests>=2.19.0->datasets==2.15.0) (3.6)\nRequirement already satisfied: urllib3<3,>=1.21.1 in /opt/conda/lib/python3.10/site-packages (from requests>=2.19.0->datasets==2.15.0) (1.26.18)\nRequirement already satisfied: certifi>=2017.4.17 in /opt/conda/lib/python3.10/site-packages (from requests>=2.19.0->datasets==2.15.0) (2024.2.2)\nINFO: pip is looking at multiple versions of multiprocess to determine which version is compatible with other requirements. This could take a while.\nCollecting multiprocess (from datasets==2.15.0)\n  Downloading multiprocess-0.70.15-py310-none-any.whl.metadata (7.2 kB)\nRequirement already satisfied: python-dateutil>=2.8.2 in /opt/conda/lib/python3.10/site-packages (from pandas->datasets==2.15.0) (2.9.0.post0)\nRequirement already satisfied: pytz>=2020.1 in /opt/conda/lib/python3.10/site-packages (from pandas->datasets==2.15.0) (2023.3.post1)\nRequirement already satisfied: tzdata>=2022.1 in /opt/conda/lib/python3.10/site-packages (from pandas->datasets==2.15.0) (2023.4)\nRequirement already satisfied: six>=1.5 in /opt/conda/lib/python3.10/site-packages (from python-dateutil>=2.8.2->pandas->datasets==2.15.0) (1.16.0)\nDownloading datasets-2.15.0-py3-none-any.whl (521 kB)\n\u001b[2K   \u001b[90m━━━━━━━━━━━━━━━━━━━━━━━━━━━━━━━━━━━━━━━━\u001b[0m \u001b[32m521.2/521.2 kB\u001b[0m \u001b[31m3.7 MB/s\u001b[0m eta \u001b[36m0:00:00\u001b[0ma \u001b[36m0:00:01\u001b[0m\n\u001b[?25hDownloading dill-0.3.7-py3-none-any.whl (115 kB)\n\u001b[2K   \u001b[90m━━━━━━━━━━━━━━━━━━━━━━━━━━━━━━━━━━━━━━━━\u001b[0m \u001b[32m115.3/115.3 kB\u001b[0m \u001b[31m7.2 MB/s\u001b[0m eta \u001b[36m0:00:00\u001b[0m\n\u001b[?25hDownloading fsspec-2023.10.0-py3-none-any.whl (166 kB)\n\u001b[2K   \u001b[90m━━━━━━━━━━━━━━━━━━━━━━━━━━━━━━━━━━━━━━━━\u001b[0m \u001b[32m166.4/166.4 kB\u001b[0m \u001b[31m10.8 MB/s\u001b[0m eta \u001b[36m0:00:00\u001b[0m\n\u001b[?25hDownloading multiprocess-0.70.15-py310-none-any.whl (134 kB)\n\u001b[2K   \u001b[90m━━━━━━━━━━━━━━━━━━━━━━━━━━━━━━━━━━━━━━━━\u001b[0m \u001b[32m134.8/134.8 kB\u001b[0m \u001b[31m7.1 MB/s\u001b[0m eta \u001b[36m0:00:00\u001b[0m\n\u001b[?25hDownloading pyarrow_hotfix-0.6-py3-none-any.whl (7.9 kB)\nInstalling collected packages: pyarrow-hotfix, fsspec, dill, multiprocess, datasets\n  Attempting uninstall: fsspec\n    Found existing installation: fsspec 2024.3.0\n    Uninstalling fsspec-2024.3.0:\n      Successfully uninstalled fsspec-2024.3.0\n  Attempting uninstall: dill\n    Found existing installation: dill 0.3.8\n    Uninstalling dill-0.3.8:\n      Successfully uninstalled dill-0.3.8\n  Attempting uninstall: multiprocess\n    Found existing installation: multiprocess 0.70.16\n    Uninstalling multiprocess-0.70.16:\n      Successfully uninstalled multiprocess-0.70.16\n  Attempting uninstall: datasets\n    Found existing installation: datasets 2.1.0\n    Uninstalling datasets-2.1.0:\n      Successfully uninstalled datasets-2.1.0\n\u001b[31mERROR: pip's dependency resolver does not currently take into account all the packages that are installed. This behaviour is the source of the following dependency conflicts.\ncudf 23.8.0 requires cubinlinker, which is not installed.\ncudf 23.8.0 requires cupy-cuda11x>=12.0.0, which is not installed.\ncudf 23.8.0 requires ptxcompiler, which is not installed.\ncuml 23.8.0 requires cupy-cuda11x>=12.0.0, which is not installed.\ndask-cudf 23.8.0 requires cupy-cuda11x>=12.0.0, which is not installed.\napache-beam 2.46.0 requires dill<0.3.2,>=0.3.1.1, but you have dill 0.3.7 which is incompatible.\napache-beam 2.46.0 requires numpy<1.25.0,>=1.14.3, but you have numpy 1.26.4 which is incompatible.\napache-beam 2.46.0 requires pyarrow<10.0.0,>=3.0.0, but you have pyarrow 11.0.0 which is incompatible.\ncudf 23.8.0 requires cuda-python<12.0a0,>=11.7.1, but you have cuda-python 12.4.0 which is incompatible.\ncudf 23.8.0 requires pandas<1.6.0dev0,>=1.3, but you have pandas 2.1.4 which is incompatible.\ncudf 23.8.0 requires protobuf<5,>=4.21, but you have protobuf 3.20.3 which is incompatible.\ncuml 23.8.0 requires dask==2023.7.1, but you have dask 2024.3.1 which is incompatible.\ndask-cuda 23.8.0 requires dask==2023.7.1, but you have dask 2024.3.1 which is incompatible.\ndask-cuda 23.8.0 requires pandas<1.6.0dev0,>=1.3, but you have pandas 2.1.4 which is incompatible.\ndask-cudf 23.8.0 requires dask==2023.7.1, but you have dask 2024.3.1 which is incompatible.\ndask-cudf 23.8.0 requires pandas<1.6.0dev0,>=1.3, but you have pandas 2.1.4 which is incompatible.\ndistributed 2023.7.1 requires dask==2023.7.1, but you have dask 2024.3.1 which is incompatible.\ngcsfs 2023.12.2.post1 requires fsspec==2023.12.2, but you have fsspec 2023.10.0 which is incompatible.\npathos 0.3.2 requires dill>=0.3.8, but you have dill 0.3.7 which is incompatible.\npathos 0.3.2 requires multiprocess>=0.70.16, but you have multiprocess 0.70.15 which is incompatible.\nraft-dask 23.8.0 requires dask==2023.7.1, but you have dask 2024.3.1 which is incompatible.\ns3fs 2024.3.0 requires fsspec==2024.3.0, but you have fsspec 2023.10.0 which is incompatible.\u001b[0m\u001b[31m\n\u001b[0mSuccessfully installed datasets-2.15.0 dill-0.3.7 fsspec-2023.10.0 multiprocess-0.70.15 pyarrow-hotfix-0.6\nCollecting peft==0.7.1\n  Downloading peft-0.7.1-py3-none-any.whl.metadata (25 kB)\nRequirement already satisfied: numpy>=1.17 in /opt/conda/lib/python3.10/site-packages (from peft==0.7.1) (1.26.4)\nRequirement already satisfied: packaging>=20.0 in /opt/conda/lib/python3.10/site-packages (from peft==0.7.1) (21.3)\nRequirement already satisfied: psutil in /opt/conda/lib/python3.10/site-packages (from peft==0.7.1) (5.9.3)\nRequirement already satisfied: pyyaml in /opt/conda/lib/python3.10/site-packages (from peft==0.7.1) (6.0.1)\nRequirement already satisfied: torch>=1.13.0 in /opt/conda/lib/python3.10/site-packages (from peft==0.7.1) (2.1.2)\nRequirement already satisfied: transformers in /opt/conda/lib/python3.10/site-packages (from peft==0.7.1) (4.36.2)\nRequirement already satisfied: tqdm in /opt/conda/lib/python3.10/site-packages (from peft==0.7.1) (4.66.1)\nRequirement already satisfied: accelerate>=0.21.0 in /opt/conda/lib/python3.10/site-packages (from peft==0.7.1) (0.25.0)\nRequirement already satisfied: safetensors in /opt/conda/lib/python3.10/site-packages (from peft==0.7.1) (0.4.2)\nRequirement already satisfied: huggingface-hub>=0.17.0 in /opt/conda/lib/python3.10/site-packages (from peft==0.7.1) (0.21.4)\nRequirement already satisfied: filelock in /opt/conda/lib/python3.10/site-packages (from huggingface-hub>=0.17.0->peft==0.7.1) (3.13.1)\nRequirement already satisfied: fsspec>=2023.5.0 in /opt/conda/lib/python3.10/site-packages (from huggingface-hub>=0.17.0->peft==0.7.1) (2023.10.0)\nRequirement already satisfied: requests in /opt/conda/lib/python3.10/site-packages (from huggingface-hub>=0.17.0->peft==0.7.1) (2.31.0)\nRequirement already satisfied: typing-extensions>=3.7.4.3 in /opt/conda/lib/python3.10/site-packages (from huggingface-hub>=0.17.0->peft==0.7.1) (4.9.0)\nRequirement already satisfied: pyparsing!=3.0.5,>=2.0.2 in /opt/conda/lib/python3.10/site-packages (from packaging>=20.0->peft==0.7.1) (3.1.1)\nRequirement already satisfied: sympy in /opt/conda/lib/python3.10/site-packages (from torch>=1.13.0->peft==0.7.1) (1.12)\nRequirement already satisfied: networkx in /opt/conda/lib/python3.10/site-packages (from torch>=1.13.0->peft==0.7.1) (3.2.1)\nRequirement already satisfied: jinja2 in /opt/conda/lib/python3.10/site-packages (from torch>=1.13.0->peft==0.7.1) (3.1.2)\nRequirement already satisfied: regex!=2019.12.17 in /opt/conda/lib/python3.10/site-packages (from transformers->peft==0.7.1) (2023.12.25)\nRequirement already satisfied: tokenizers<0.19,>=0.14 in /opt/conda/lib/python3.10/site-packages (from transformers->peft==0.7.1) (0.15.2)\nRequirement already satisfied: MarkupSafe>=2.0 in /opt/conda/lib/python3.10/site-packages (from jinja2->torch>=1.13.0->peft==0.7.1) (2.1.3)\nRequirement already satisfied: charset-normalizer<4,>=2 in /opt/conda/lib/python3.10/site-packages (from requests->huggingface-hub>=0.17.0->peft==0.7.1) (3.3.2)\nRequirement already satisfied: idna<4,>=2.5 in /opt/conda/lib/python3.10/site-packages (from requests->huggingface-hub>=0.17.0->peft==0.7.1) (3.6)\nRequirement already satisfied: urllib3<3,>=1.21.1 in /opt/conda/lib/python3.10/site-packages (from requests->huggingface-hub>=0.17.0->peft==0.7.1) (1.26.18)\nRequirement already satisfied: certifi>=2017.4.17 in /opt/conda/lib/python3.10/site-packages (from requests->huggingface-hub>=0.17.0->peft==0.7.1) (2024.2.2)\nRequirement already satisfied: mpmath>=0.19 in /opt/conda/lib/python3.10/site-packages (from sympy->torch>=1.13.0->peft==0.7.1) (1.3.0)\nDownloading peft-0.7.1-py3-none-any.whl (168 kB)\n\u001b[2K   \u001b[90m━━━━━━━━━━━━━━━━━━━━━━━━━━━━━━━━━━━━━━━━\u001b[0m \u001b[32m168.3/168.3 kB\u001b[0m \u001b[31m1.8 MB/s\u001b[0m eta \u001b[36m0:00:00\u001b[0ma \u001b[36m0:00:01\u001b[0mm\n\u001b[?25hInstalling collected packages: peft\nSuccessfully installed peft-0.7.1\nCollecting bitsandbytes==0.41.3\n  Downloading bitsandbytes-0.41.3-py3-none-any.whl.metadata (9.8 kB)\nDownloading bitsandbytes-0.41.3-py3-none-any.whl (92.6 MB)\n\u001b[2K   \u001b[90m━━━━━━━━━━━━━━━━━━━━━━━━━━━━━━━━━━━━━━━━\u001b[0m \u001b[32m92.6/92.6 MB\u001b[0m \u001b[31m16.9 MB/s\u001b[0m eta \u001b[36m0:00:00\u001b[0m:00:01\u001b[0m00:01\u001b[0m\n\u001b[?25hInstalling collected packages: bitsandbytes\nSuccessfully installed bitsandbytes-0.41.3\nCollecting trl==0.7.7\n  Downloading trl-0.7.7-py3-none-any.whl.metadata (10 kB)\nRequirement already satisfied: torch>=1.4.0 in /opt/conda/lib/python3.10/site-packages (from trl==0.7.7) (2.1.2)\nRequirement already satisfied: transformers>=4.31.0 in /opt/conda/lib/python3.10/site-packages (from trl==0.7.7) (4.36.2)\nRequirement already satisfied: numpy>=1.18.2 in /opt/conda/lib/python3.10/site-packages (from trl==0.7.7) (1.26.4)\nRequirement already satisfied: accelerate in /opt/conda/lib/python3.10/site-packages (from trl==0.7.7) (0.25.0)\nRequirement already satisfied: datasets in /opt/conda/lib/python3.10/site-packages (from trl==0.7.7) (2.15.0)\nCollecting tyro>=0.5.11 (from trl==0.7.7)\n  Downloading tyro-0.7.3-py3-none-any.whl.metadata (7.7 kB)\nRequirement already satisfied: filelock in /opt/conda/lib/python3.10/site-packages (from torch>=1.4.0->trl==0.7.7) (3.13.1)\nRequirement already satisfied: typing-extensions in /opt/conda/lib/python3.10/site-packages (from torch>=1.4.0->trl==0.7.7) (4.9.0)\nRequirement already satisfied: sympy in /opt/conda/lib/python3.10/site-packages (from torch>=1.4.0->trl==0.7.7) (1.12)\nRequirement already satisfied: networkx in /opt/conda/lib/python3.10/site-packages (from torch>=1.4.0->trl==0.7.7) (3.2.1)\nRequirement already satisfied: jinja2 in /opt/conda/lib/python3.10/site-packages (from torch>=1.4.0->trl==0.7.7) (3.1.2)\nRequirement already satisfied: fsspec in /opt/conda/lib/python3.10/site-packages (from torch>=1.4.0->trl==0.7.7) (2023.10.0)\nRequirement already satisfied: huggingface-hub<1.0,>=0.19.3 in /opt/conda/lib/python3.10/site-packages (from transformers>=4.31.0->trl==0.7.7) (0.21.4)\nRequirement already satisfied: packaging>=20.0 in /opt/conda/lib/python3.10/site-packages (from transformers>=4.31.0->trl==0.7.7) (21.3)\nRequirement already satisfied: pyyaml>=5.1 in /opt/conda/lib/python3.10/site-packages (from transformers>=4.31.0->trl==0.7.7) (6.0.1)\nRequirement already satisfied: regex!=2019.12.17 in /opt/conda/lib/python3.10/site-packages (from transformers>=4.31.0->trl==0.7.7) (2023.12.25)\nRequirement already satisfied: requests in /opt/conda/lib/python3.10/site-packages (from transformers>=4.31.0->trl==0.7.7) (2.31.0)\nRequirement already satisfied: tokenizers<0.19,>=0.14 in /opt/conda/lib/python3.10/site-packages (from transformers>=4.31.0->trl==0.7.7) (0.15.2)\nRequirement already satisfied: safetensors>=0.3.1 in /opt/conda/lib/python3.10/site-packages (from transformers>=4.31.0->trl==0.7.7) (0.4.2)\nRequirement already satisfied: tqdm>=4.27 in /opt/conda/lib/python3.10/site-packages (from transformers>=4.31.0->trl==0.7.7) (4.66.1)\nRequirement already satisfied: docstring-parser>=0.14.1 in /opt/conda/lib/python3.10/site-packages (from tyro>=0.5.11->trl==0.7.7) (0.15)\nRequirement already satisfied: rich>=11.1.0 in /opt/conda/lib/python3.10/site-packages (from tyro>=0.5.11->trl==0.7.7) (13.7.0)\nCollecting shtab>=1.5.6 (from tyro>=0.5.11->trl==0.7.7)\n  Downloading shtab-1.7.1-py3-none-any.whl.metadata (7.3 kB)\nRequirement already satisfied: psutil in /opt/conda/lib/python3.10/site-packages (from accelerate->trl==0.7.7) (5.9.3)\nRequirement already satisfied: pyarrow>=8.0.0 in /opt/conda/lib/python3.10/site-packages (from datasets->trl==0.7.7) (11.0.0)\nRequirement already satisfied: pyarrow-hotfix in /opt/conda/lib/python3.10/site-packages (from datasets->trl==0.7.7) (0.6)\nRequirement already satisfied: dill<0.3.8,>=0.3.0 in /opt/conda/lib/python3.10/site-packages (from datasets->trl==0.7.7) (0.3.7)\nRequirement already satisfied: pandas in /opt/conda/lib/python3.10/site-packages (from datasets->trl==0.7.7) (2.1.4)\nRequirement already satisfied: xxhash in /opt/conda/lib/python3.10/site-packages (from datasets->trl==0.7.7) (3.4.1)\nRequirement already satisfied: multiprocess in /opt/conda/lib/python3.10/site-packages (from datasets->trl==0.7.7) (0.70.15)\nRequirement already satisfied: aiohttp in /opt/conda/lib/python3.10/site-packages (from datasets->trl==0.7.7) (3.9.1)\nRequirement already satisfied: attrs>=17.3.0 in /opt/conda/lib/python3.10/site-packages (from aiohttp->datasets->trl==0.7.7) (23.2.0)\nRequirement already satisfied: multidict<7.0,>=4.5 in /opt/conda/lib/python3.10/site-packages (from aiohttp->datasets->trl==0.7.7) (6.0.4)\nRequirement already satisfied: yarl<2.0,>=1.0 in /opt/conda/lib/python3.10/site-packages (from aiohttp->datasets->trl==0.7.7) (1.9.3)\nRequirement already satisfied: frozenlist>=1.1.1 in /opt/conda/lib/python3.10/site-packages (from aiohttp->datasets->trl==0.7.7) (1.4.1)\nRequirement already satisfied: aiosignal>=1.1.2 in /opt/conda/lib/python3.10/site-packages (from aiohttp->datasets->trl==0.7.7) (1.3.1)\nRequirement already satisfied: async-timeout<5.0,>=4.0 in /opt/conda/lib/python3.10/site-packages (from aiohttp->datasets->trl==0.7.7) (4.0.3)\nRequirement already satisfied: pyparsing!=3.0.5,>=2.0.2 in /opt/conda/lib/python3.10/site-packages (from packaging>=20.0->transformers>=4.31.0->trl==0.7.7) (3.1.1)\nRequirement already satisfied: charset-normalizer<4,>=2 in /opt/conda/lib/python3.10/site-packages (from requests->transformers>=4.31.0->trl==0.7.7) (3.3.2)\nRequirement already satisfied: idna<4,>=2.5 in /opt/conda/lib/python3.10/site-packages (from requests->transformers>=4.31.0->trl==0.7.7) (3.6)\nRequirement already satisfied: urllib3<3,>=1.21.1 in /opt/conda/lib/python3.10/site-packages (from requests->transformers>=4.31.0->trl==0.7.7) (1.26.18)\nRequirement already satisfied: certifi>=2017.4.17 in /opt/conda/lib/python3.10/site-packages (from requests->transformers>=4.31.0->trl==0.7.7) (2024.2.2)\nRequirement already satisfied: markdown-it-py>=2.2.0 in /opt/conda/lib/python3.10/site-packages (from rich>=11.1.0->tyro>=0.5.11->trl==0.7.7) (3.0.0)\nRequirement already satisfied: pygments<3.0.0,>=2.13.0 in /opt/conda/lib/python3.10/site-packages (from rich>=11.1.0->tyro>=0.5.11->trl==0.7.7) (2.17.2)\nRequirement already satisfied: MarkupSafe>=2.0 in /opt/conda/lib/python3.10/site-packages (from jinja2->torch>=1.4.0->trl==0.7.7) (2.1.3)\nRequirement already satisfied: python-dateutil>=2.8.2 in /opt/conda/lib/python3.10/site-packages (from pandas->datasets->trl==0.7.7) (2.9.0.post0)\nRequirement already satisfied: pytz>=2020.1 in /opt/conda/lib/python3.10/site-packages (from pandas->datasets->trl==0.7.7) (2023.3.post1)\nRequirement already satisfied: tzdata>=2022.1 in /opt/conda/lib/python3.10/site-packages (from pandas->datasets->trl==0.7.7) (2023.4)\nRequirement already satisfied: mpmath>=0.19 in /opt/conda/lib/python3.10/site-packages (from sympy->torch>=1.4.0->trl==0.7.7) (1.3.0)\nRequirement already satisfied: mdurl~=0.1 in /opt/conda/lib/python3.10/site-packages (from markdown-it-py>=2.2.0->rich>=11.1.0->tyro>=0.5.11->trl==0.7.7) (0.1.2)\nRequirement already satisfied: six>=1.5 in /opt/conda/lib/python3.10/site-packages (from python-dateutil>=2.8.2->pandas->datasets->trl==0.7.7) (1.16.0)\nDownloading trl-0.7.7-py3-none-any.whl (139 kB)\n\u001b[2K   \u001b[90m━━━━━━━━━━━━━━━━━━━━━━━━━━━━━━━━━━━━━━━━\u001b[0m \u001b[32m139.1/139.1 kB\u001b[0m \u001b[31m1.4 MB/s\u001b[0m eta \u001b[36m0:00:00\u001b[0ma \u001b[36m0:00:01\u001b[0m\n\u001b[?25hDownloading tyro-0.7.3-py3-none-any.whl (79 kB)\n\u001b[2K   \u001b[90m━━━━━━━━━━━━━━━━━━━━━━━━━━━━━━━━━━━━━━━━\u001b[0m \u001b[32m79.8/79.8 kB\u001b[0m \u001b[31m4.8 MB/s\u001b[0m eta \u001b[36m0:00:00\u001b[0m\n\u001b[?25hDownloading shtab-1.7.1-py3-none-any.whl (14 kB)\nInstalling collected packages: shtab, tyro, trl\nSuccessfully installed shtab-1.7.1 trl-0.7.7 tyro-0.7.3\nRequirement already satisfied: tqdm==4.66.1 in /opt/conda/lib/python3.10/site-packages (4.66.1)\nCollecting flash-attn==2.4.2\n  Downloading flash_attn-2.4.2.tar.gz (2.4 MB)\n\u001b[2K     \u001b[90m━━━━━━━━━━━━━━━━━━━━━━━━━━━━━━━━━━━━━━━━\u001b[0m \u001b[32m2.4/2.4 MB\u001b[0m \u001b[31m9.0 MB/s\u001b[0m eta \u001b[36m0:00:00\u001b[0m00:01\u001b[0m00:01\u001b[0m\n\u001b[?25h  Preparing metadata (setup.py) ... \u001b[?25ldone\n\u001b[?25hRequirement already satisfied: torch in /opt/conda/lib/python3.10/site-packages (from flash-attn==2.4.2) (2.1.2)\nCollecting einops (from flash-attn==2.4.2)\n  Downloading einops-0.7.0-py3-none-any.whl.metadata (13 kB)\nRequirement already satisfied: packaging in /opt/conda/lib/python3.10/site-packages (from flash-attn==2.4.2) (21.3)\nRequirement already satisfied: ninja in /opt/conda/lib/python3.10/site-packages (from flash-attn==2.4.2) (1.11.1.1)\nRequirement already satisfied: pyparsing!=3.0.5,>=2.0.2 in /opt/conda/lib/python3.10/site-packages (from packaging->flash-attn==2.4.2) (3.1.1)\nRequirement already satisfied: filelock in /opt/conda/lib/python3.10/site-packages (from torch->flash-attn==2.4.2) (3.13.1)\nRequirement already satisfied: typing-extensions in /opt/conda/lib/python3.10/site-packages (from torch->flash-attn==2.4.2) (4.9.0)\nRequirement already satisfied: sympy in /opt/conda/lib/python3.10/site-packages (from torch->flash-attn==2.4.2) (1.12)\nRequirement already satisfied: networkx in /opt/conda/lib/python3.10/site-packages (from torch->flash-attn==2.4.2) (3.2.1)\nRequirement already satisfied: jinja2 in /opt/conda/lib/python3.10/site-packages (from torch->flash-attn==2.4.2) (3.1.2)\nRequirement already satisfied: fsspec in /opt/conda/lib/python3.10/site-packages (from torch->flash-attn==2.4.2) (2023.10.0)\nRequirement already satisfied: MarkupSafe>=2.0 in /opt/conda/lib/python3.10/site-packages (from jinja2->torch->flash-attn==2.4.2) (2.1.3)\nRequirement already satisfied: mpmath>=0.19 in /opt/conda/lib/python3.10/site-packages (from sympy->torch->flash-attn==2.4.2) (1.3.0)\nDownloading einops-0.7.0-py3-none-any.whl (44 kB)\n\u001b[2K   \u001b[90m━━━━━━━━━━━━━━━━━━━━━━━━━━━━━━━━━━━━━━━━\u001b[0m \u001b[32m44.6/44.6 kB\u001b[0m \u001b[31m2.5 MB/s\u001b[0m eta \u001b[36m0:00:00\u001b[0m\n\u001b[?25hBuilding wheels for collected packages: flash-attn\n  Building wheel for flash-attn (setup.py) ... \u001b[?25ldone\n\u001b[?25h  Created wheel for flash-attn: filename=flash_attn-2.4.2-cp310-cp310-linux_x86_64.whl size=113715733 sha256=04e3db4e507c133eec26d814c9bec16ca24f8b4bef3e37c6101f2059080eccee\n  Stored in directory: /root/.cache/pip/wheels/9d/cf/7f/d14555553b5b30698dae0a4159fdd058157e7021cec565ecaa\nSuccessfully built flash-attn\nInstalling collected packages: einops, flash-attn\nSuccessfully installed einops-0.7.0 flash-attn-2.4.2\n",
          "output_type": "stream"
        }
      ],
      "id": "cda7cd5c"
    },
    {
      "cell_type": "code",
      "source": [
        "import numpy as np\n",
        "import pandas as pd\n",
        "import os\n",
        "from huggingface_hub import login\n",
        "from kaggle_secrets import UserSecretsClient\n",
        "from datasets import load_dataset"
      ],
      "metadata": {
        "_cell_guid": "b1076dfc-b9ad-4769-8c92-a6c4dae69d19",
        "_uuid": "8f2839f25d086af736a60e9eeb907d3b93b6e0e5",
        "papermill": {
          "duration": 0.748496,
          "end_time": "2024-01-20T17:48:54.749237",
          "exception": false,
          "start_time": "2024-01-20T17:48:54.000741",
          "status": "completed"
        },
        "tags": [],
        "id": "a92d3aca",
        "execution": {
          "iopub.status.busy": "2024-03-24T08:27:22.200554Z",
          "iopub.execute_input": "2024-03-24T08:27:22.200916Z",
          "iopub.status.idle": "2024-03-24T08:27:24.673792Z",
          "shell.execute_reply.started": "2024-03-24T08:27:22.200882Z",
          "shell.execute_reply": "2024-03-24T08:27:24.673039Z"
        },
        "trusted": true
      },
      "execution_count": null,
      "outputs": [],
      "id": "a92d3aca"
    },
    {
      "cell_type": "code",
      "source": [
        "user_secrets = UserSecretsClient()\n",
        "\n",
        "login(token=user_secrets.get_secret(\"HUGGINGFACE_TOKEN\"))\n",
        "\n",
        "os.environ[\"WANDB_API_KEY\"]=user_secrets.get_secret(\"WANDB_API_KEY\")\n",
        "os.environ[\"WANDB_PROJECT\"] = \"Text generation using LORA\"\n",
        "os.environ[\"WANDB_NOTES\"] = \"Fine tuning text generation using LLM\"\n",
        "os.environ[\"WANDB_NAME\"] = \"Model-text-generation\"\n",
        "os.environ[\"MODEL_NAME\"] = \"bigscience/bloomz-560m\""
      ],
      "metadata": {
        "papermill": {
          "duration": 1.212947,
          "end_time": "2024-01-20T17:50:54.010033",
          "exception": false,
          "start_time": "2024-01-20T17:50:52.797086",
          "status": "completed"
        },
        "tags": [],
        "id": "1ac80137",
        "outputId": "14ae4392-04ac-46f2-847a-3d084c40c7ae",
        "execution": {
          "iopub.status.busy": "2024-03-24T08:27:28.319142Z",
          "iopub.execute_input": "2024-03-24T08:27:28.319674Z",
          "iopub.status.idle": "2024-03-24T08:27:28.633761Z",
          "shell.execute_reply.started": "2024-03-24T08:27:28.319645Z",
          "shell.execute_reply": "2024-03-24T08:27:28.632868Z"
        },
        "trusted": true
      },
      "execution_count": null,
      "outputs": [
        {
          "name": "stdout",
          "text": "Token has not been saved to git credential helper. Pass `add_to_git_credential=True` if you want to set the git credential as well.\nToken is valid (permission: read).\nYour token has been saved to /root/.cache/huggingface/token\nLogin successful\n",
          "output_type": "stream"
        }
      ],
      "id": "1ac80137"
    },
    {
      "cell_type": "code",
      "source": [
        "!accelerate estimate-memory ${MODEL_NAME} --library_name transformers"
      ],
      "metadata": {
        "papermill": {
          "duration": 8.101705,
          "end_time": "2024-01-20T17:51:02.129763",
          "exception": false,
          "start_time": "2024-01-20T17:50:54.028058",
          "status": "completed"
        },
        "tags": [],
        "id": "6774c3d9",
        "outputId": "3dd60a8c-1a95-4904-f091-cb2b3eadf27c",
        "execution": {
          "iopub.status.busy": "2024-03-24T08:27:32.451688Z",
          "iopub.execute_input": "2024-03-24T08:27:32.452566Z",
          "iopub.status.idle": "2024-03-24T08:27:41.470729Z",
          "shell.execute_reply.started": "2024-03-24T08:27:32.452505Z",
          "shell.execute_reply": "2024-03-24T08:27:41.469460Z"
        },
        "trusted": true
      },
      "execution_count": null,
      "outputs": [
        {
          "name": "stdout",
          "text": "Loading pretrained config for `bigscience/bloomz-560m` from `transformers`...\nconfig.json: 100%|█████████████████████████████| 715/715 [00:00<00:00, 3.26MB/s]\n┌────────────────────────────────────────────────────┐\n│ Memory Usage for loading `bigscience/bloomz-560m`  │\n├───────┬─────────────┬──────────┬───────────────────┤\n│ dtype │Largest Layer│Total Size│Training using Adam│\n├───────┼─────────────┼──────────┼───────────────────┤\n│float32│   980.0 MB  │ 2.08 GB  │      8.33 GB      │\n│float16│   490.0 MB  │ 1.04 GB  │      4.17 GB      │\n│  int8 │   245.0 MB  │533.31 MB │      2.08 GB      │\n│  int4 │   122.5 MB  │266.65 MB │      1.04 GB      │\n└───────┴─────────────┴──────────┴───────────────────┘\n",
          "output_type": "stream"
        }
      ],
      "id": "6774c3d9"
    },
    {
      "cell_type": "code",
      "source": [
        "dataset = load_dataset(\"amazon_polarity\",split='train')"
      ],
      "metadata": {
        "papermill": {
          "duration": 241.906814,
          "end_time": "2024-01-20T17:55:04.054275",
          "exception": false,
          "start_time": "2024-01-20T17:51:02.147461",
          "status": "completed"
        },
        "tags": [],
        "id": "31aec963",
        "execution": {
          "iopub.status.busy": "2024-03-24T08:30:09.403338Z",
          "iopub.execute_input": "2024-03-24T08:30:09.403717Z",
          "iopub.status.idle": "2024-03-24T08:30:11.329787Z",
          "shell.execute_reply.started": "2024-03-24T08:30:09.403688Z",
          "shell.execute_reply": "2024-03-24T08:30:11.329028Z"
        },
        "trusted": true
      },
      "execution_count": null,
      "outputs": [],
      "id": "31aec963"
    },
    {
      "cell_type": "code",
      "source": [
        "dataset"
      ],
      "metadata": {
        "papermill": {
          "duration": 0.029931,
          "end_time": "2024-01-20T17:55:04.107785",
          "exception": false,
          "start_time": "2024-01-20T17:55:04.077854",
          "status": "completed"
        },
        "tags": [],
        "id": "75297d65",
        "outputId": "73a7ab61-8923-47c6-a63e-bdac1654956c",
        "execution": {
          "iopub.status.busy": "2024-03-24T08:30:21.124447Z",
          "iopub.execute_input": "2024-03-24T08:30:21.124834Z",
          "iopub.status.idle": "2024-03-24T08:30:21.130761Z",
          "shell.execute_reply.started": "2024-03-24T08:30:21.124806Z",
          "shell.execute_reply": "2024-03-24T08:30:21.129815Z"
        },
        "trusted": true
      },
      "execution_count": null,
      "outputs": [
        {
          "execution_count": 18,
          "output_type": "execute_result",
          "data": {
            "text/plain": "Dataset({\n    features: ['label', 'title', 'content'],\n    num_rows: 3600000\n})"
          },
          "metadata": {}
        }
      ],
      "id": "75297d65"
    },
    {
      "cell_type": "code",
      "source": [
        "dataset = dataset.remove_columns(['label', 'title'])"
      ],
      "metadata": {
        "execution": {
          "iopub.status.busy": "2024-03-24T08:30:25.080644Z",
          "iopub.execute_input": "2024-03-24T08:30:25.081263Z",
          "iopub.status.idle": "2024-03-24T08:30:25.108144Z",
          "shell.execute_reply.started": "2024-03-24T08:30:25.081235Z",
          "shell.execute_reply": "2024-03-24T08:30:25.107324Z"
        },
        "trusted": true,
        "id": "QaoozGl9wNEi"
      },
      "execution_count": null,
      "outputs": [],
      "id": "QaoozGl9wNEi"
    },
    {
      "cell_type": "code",
      "source": [
        "dataset"
      ],
      "metadata": {
        "papermill": {
          "duration": 0.029519,
          "end_time": "2024-01-20T17:55:04.277555",
          "exception": false,
          "start_time": "2024-01-20T17:55:04.248036",
          "status": "completed"
        },
        "tags": [],
        "id": "ede81570",
        "outputId": "dd9dc653-fd13-4059-e59c-a61d561841ba",
        "execution": {
          "iopub.status.busy": "2024-03-24T08:30:28.363096Z",
          "iopub.execute_input": "2024-03-24T08:30:28.363474Z",
          "iopub.status.idle": "2024-03-24T08:30:28.369629Z",
          "shell.execute_reply.started": "2024-03-24T08:30:28.363436Z",
          "shell.execute_reply": "2024-03-24T08:30:28.368575Z"
        },
        "trusted": true
      },
      "execution_count": null,
      "outputs": [
        {
          "execution_count": 20,
          "output_type": "execute_result",
          "data": {
            "text/plain": "Dataset({\n    features: ['content'],\n    num_rows: 3600000\n})"
          },
          "metadata": {}
        }
      ],
      "id": "ede81570"
    },
    {
      "cell_type": "code",
      "source": [
        "dataset = dataset.shuffle(seed=42).select([i for i in range(50000)])"
      ],
      "metadata": {
        "papermill": {
          "duration": 1.897132,
          "end_time": "2024-01-20T17:55:06.194964",
          "exception": false,
          "start_time": "2024-01-20T17:55:04.297832",
          "status": "completed"
        },
        "tags": [],
        "id": "18b6a3bd",
        "execution": {
          "iopub.status.busy": "2024-03-24T08:30:31.918070Z",
          "iopub.execute_input": "2024-03-24T08:30:31.918426Z",
          "iopub.status.idle": "2024-03-24T08:30:32.193462Z",
          "shell.execute_reply.started": "2024-03-24T08:30:31.918395Z",
          "shell.execute_reply": "2024-03-24T08:30:32.192220Z"
        },
        "trusted": true
      },
      "execution_count": null,
      "outputs": [],
      "id": "18b6a3bd"
    },
    {
      "cell_type": "code",
      "source": [
        "dataset = dataset.train_test_split(test_size=0.2,seed=42)"
      ],
      "metadata": {
        "papermill": {
          "duration": 0.105501,
          "end_time": "2024-01-20T17:55:06.320209",
          "exception": false,
          "start_time": "2024-01-20T17:55:06.214708",
          "status": "completed"
        },
        "tags": [],
        "id": "0ffefae9",
        "execution": {
          "iopub.status.busy": "2024-03-24T08:30:37.857367Z",
          "iopub.execute_input": "2024-03-24T08:30:37.857757Z",
          "iopub.status.idle": "2024-03-24T08:30:37.911421Z",
          "shell.execute_reply.started": "2024-03-24T08:30:37.857730Z",
          "shell.execute_reply": "2024-03-24T08:30:37.910648Z"
        },
        "trusted": true
      },
      "execution_count": null,
      "outputs": [],
      "id": "0ffefae9"
    },
    {
      "cell_type": "code",
      "source": [
        "dataset"
      ],
      "metadata": {
        "papermill": {
          "duration": 0.028232,
          "end_time": "2024-01-20T17:55:06.367766",
          "exception": false,
          "start_time": "2024-01-20T17:55:06.339534",
          "status": "completed"
        },
        "tags": [],
        "id": "bde16e9a",
        "outputId": "f495e6f7-1ef8-4257-8458-4679a2834ec4",
        "execution": {
          "iopub.status.busy": "2024-03-24T08:30:42.351584Z",
          "iopub.execute_input": "2024-03-24T08:30:42.352540Z",
          "iopub.status.idle": "2024-03-24T08:30:42.358074Z",
          "shell.execute_reply.started": "2024-03-24T08:30:42.352486Z",
          "shell.execute_reply": "2024-03-24T08:30:42.357102Z"
        },
        "trusted": true
      },
      "execution_count": null,
      "outputs": [
        {
          "execution_count": 23,
          "output_type": "execute_result",
          "data": {
            "text/plain": "DatasetDict({\n    train: Dataset({\n        features: ['content'],\n        num_rows: 40000\n    })\n    test: Dataset({\n        features: ['content'],\n        num_rows: 10000\n    })\n})"
          },
          "metadata": {}
        }
      ],
      "id": "bde16e9a"
    },
    {
      "cell_type": "code",
      "source": [
        "train_dataset = dataset['train']\n",
        "eval_dataset = dataset['test']"
      ],
      "metadata": {
        "papermill": {
          "duration": 0.02622,
          "end_time": "2024-01-20T17:55:06.413793",
          "exception": false,
          "start_time": "2024-01-20T17:55:06.387573",
          "status": "completed"
        },
        "tags": [],
        "id": "e27096dd",
        "execution": {
          "iopub.status.busy": "2024-03-24T08:30:51.288427Z",
          "iopub.execute_input": "2024-03-24T08:30:51.289316Z",
          "iopub.status.idle": "2024-03-24T08:30:51.293275Z",
          "shell.execute_reply.started": "2024-03-24T08:30:51.289284Z",
          "shell.execute_reply": "2024-03-24T08:30:51.292178Z"
        },
        "trusted": true
      },
      "execution_count": null,
      "outputs": [],
      "id": "e27096dd"
    },
    {
      "cell_type": "code",
      "source": [
        "train_dataset[1]"
      ],
      "metadata": {
        "papermill": {
          "duration": 0.029492,
          "end_time": "2024-01-20T17:55:06.463195",
          "exception": false,
          "start_time": "2024-01-20T17:55:06.433703",
          "status": "completed"
        },
        "tags": [],
        "id": "4773fcc5",
        "outputId": "8241f513-c292-4483-fce2-0423049628ae",
        "execution": {
          "iopub.status.busy": "2024-03-24T08:30:53.920753Z",
          "iopub.execute_input": "2024-03-24T08:30:53.921471Z",
          "iopub.status.idle": "2024-03-24T08:30:53.927882Z",
          "shell.execute_reply.started": "2024-03-24T08:30:53.921441Z",
          "shell.execute_reply": "2024-03-24T08:30:53.926722Z"
        },
        "trusted": true
      },
      "execution_count": null,
      "outputs": [
        {
          "execution_count": 26,
          "output_type": "execute_result",
          "data": {
            "text/plain": "{'content': \"This is our first burr grinder and we've been pleased with its ease and reliability. Clearly it works best for those who use ordinary beans and don't need to switch beans or grinds often. The hopper is easy to keep clean with just a small paint brush. It's very pleasant to just press once, empty into the coffee maker, press one more button and the aroma of freshly ground coffee announces breakfast. In more than a year we've noticed no degradation in motor performance.\"}"
          },
          "metadata": {}
        }
      ],
      "id": "4773fcc5"
    },
    {
      "cell_type": "code",
      "source": [
        "eval_dataset[1]"
      ],
      "metadata": {
        "papermill": {
          "duration": 0.028121,
          "end_time": "2024-01-20T17:55:06.510450",
          "exception": false,
          "start_time": "2024-01-20T17:55:06.482329",
          "status": "completed"
        },
        "tags": [],
        "id": "3431691d",
        "outputId": "dafc253a-9b63-4ef4-adc5-a08645bf3ffa",
        "execution": {
          "iopub.status.busy": "2024-03-24T08:30:56.542595Z",
          "iopub.execute_input": "2024-03-24T08:30:56.542948Z",
          "iopub.status.idle": "2024-03-24T08:30:56.549775Z",
          "shell.execute_reply.started": "2024-03-24T08:30:56.542921Z",
          "shell.execute_reply": "2024-03-24T08:30:56.548737Z"
        },
        "trusted": true
      },
      "execution_count": null,
      "outputs": [
        {
          "execution_count": 27,
          "output_type": "execute_result",
          "data": {
            "text/plain": "{'content': \"I have had this turkey almost the same length of time as the other one star voters and have had almost exactly the same problems. Flickering in Photography mode and hit and miss correction maneuvers. In a camera used relatively infrequently. A common problem, apparently, ignored by the maker. This dud is now out of date. WHATEVER you do don't buy it used.\"}"
          },
          "metadata": {}
        }
      ],
      "id": "3431691d"
    },
    {
      "cell_type": "code",
      "source": [
        "from transformers import AutoTokenizer\n",
        "\n",
        "tokenizer=AutoTokenizer.from_pretrained(os.getenv(\"MODEL_NAME\"), use_fast=True,padding_size='right')\n",
        "tokenizer.add_special_tokens({'pad_token': '[PAD]'})"
      ],
      "metadata": {
        "papermill": {
          "duration": 4.098166,
          "end_time": "2024-01-20T17:55:10.628119",
          "exception": false,
          "start_time": "2024-01-20T17:55:06.529953",
          "status": "completed"
        },
        "tags": [],
        "colab": {
          "referenced_widgets": [
            "7d6cc0fa1caf46e280751980fc9b44f4",
            "c783896cf49e4aeaa8e45c07514921d4",
            "03e7ceb7948f448c857c64ba081b36b0",
            "671259a75d8a40948359cc2de1646e89",
            "9f8660975ae94ec1a5124056288dd7f3",
            "6d549c10783646c8a4afa9da43a8eb1f"
          ]
        },
        "id": "e31276bb",
        "outputId": "baad3dc4-c38d-4f01-b103-901b431f56ad",
        "execution": {
          "iopub.status.busy": "2024-03-24T08:31:01.285484Z",
          "iopub.execute_input": "2024-03-24T08:31:01.285944Z",
          "iopub.status.idle": "2024-03-24T08:31:05.274112Z",
          "shell.execute_reply.started": "2024-03-24T08:31:01.285911Z",
          "shell.execute_reply": "2024-03-24T08:31:05.273121Z"
        },
        "trusted": true
      },
      "execution_count": null,
      "outputs": [
        {
          "output_type": "display_data",
          "data": {
            "text/plain": "tokenizer_config.json:   0%|          | 0.00/222 [00:00<?, ?B/s]",
            "application/vnd.jupyter.widget-view+json": {
              "version_major": 2,
              "version_minor": 0,
              "model_id": "671259a75d8a40948359cc2de1646e89"
            }
          },
          "metadata": {}
        },
        {
          "output_type": "display_data",
          "data": {
            "text/plain": "tokenizer.json:   0%|          | 0.00/14.5M [00:00<?, ?B/s]",
            "application/vnd.jupyter.widget-view+json": {
              "version_major": 2,
              "version_minor": 0,
              "model_id": "9f8660975ae94ec1a5124056288dd7f3"
            }
          },
          "metadata": {}
        },
        {
          "output_type": "display_data",
          "data": {
            "text/plain": "special_tokens_map.json:   0%|          | 0.00/85.0 [00:00<?, ?B/s]",
            "application/vnd.jupyter.widget-view+json": {
              "version_major": 2,
              "version_minor": 0,
              "model_id": "6d549c10783646c8a4afa9da43a8eb1f"
            }
          },
          "metadata": {}
        },
        {
          "execution_count": 28,
          "output_type": "execute_result",
          "data": {
            "text/plain": "1"
          },
          "metadata": {}
        }
      ],
      "id": "e31276bb"
    },
    {
      "cell_type": "code",
      "source": [
        "from transformers import BitsAndBytesConfig\n",
        "from accelerate import Accelerator\n",
        "import torch\n",
        "\n",
        "load_in_4bit = True\n",
        "\n",
        "if load_in_4bit:\n",
        "    quantization_config = BitsAndBytesConfig(\n",
        "        load_in_4bit=load_in_4bit,\n",
        "        bnb_4bit_quant_type=\"nf4\",\n",
        "        bnb_4bit_use_double_quant=True,\n",
        "        bnb_4bit_compute_dtype=torch.float16\n",
        "    )\n",
        "    # copy the model to each device\n",
        "    device_map = \"auto\"\n",
        "    torch_dtype = torch.float16\n",
        "else:\n",
        "    device_map = None\n",
        "    quantization_config = None\n",
        "    torch_dtype = None\n"
      ],
      "metadata": {
        "papermill": {
          "duration": 0.142047,
          "end_time": "2024-01-20T17:55:10.792557",
          "exception": false,
          "start_time": "2024-01-20T17:55:10.650510",
          "status": "completed"
        },
        "tags": [],
        "id": "cc8e96c9",
        "execution": {
          "iopub.status.busy": "2024-03-24T08:31:09.402342Z",
          "iopub.execute_input": "2024-03-24T08:31:09.403151Z",
          "iopub.status.idle": "2024-03-24T08:31:10.013765Z",
          "shell.execute_reply.started": "2024-03-24T08:31:09.403117Z",
          "shell.execute_reply": "2024-03-24T08:31:10.012808Z"
        },
        "trusted": true
      },
      "execution_count": null,
      "outputs": [],
      "id": "cc8e96c9"
    },
    {
      "cell_type": "code",
      "source": [
        "from transformers import AutoModelForCausalLM\n",
        "\n",
        "def print_trainable_parameters(model):\n",
        "    trainable_params=0\n",
        "    all_params=0\n",
        "    for _, param in model.named_parameters():\n",
        "        all_params+=param.numel()\n",
        "        if param.requires_grad:\n",
        "            trainable_params+=param.numel()\n",
        "    print(f\"trainable params: {trainable_params} || all params: {all_params} || trainable%: {100 * trainable_params/all_params:.2f}\")\n",
        "\n",
        "model=AutoModelForCausalLM.from_pretrained(\n",
        "    os.getenv(\"MODEL_NAME\"),\n",
        "    quantization_config=quantization_config,\n",
        "    device_map=device_map,\n",
        "    trust_remote_code=False,\n",
        "    torch_dtype=torch_dtype,\n",
        "    # RuntimeError: FlashAttention only supports Ampere GPUs or newer.\n",
        "#     attn_implementation=\"flash_attention_2\"\n",
        ")\n",
        "\n",
        "print_trainable_parameters(model)"
      ],
      "metadata": {
        "papermill": {
          "duration": 5.329731,
          "end_time": "2024-01-20T17:55:16.143653",
          "exception": false,
          "start_time": "2024-01-20T17:55:10.813922",
          "status": "completed"
        },
        "tags": [],
        "colab": {
          "referenced_widgets": [
            "aea7288a537f4f73ab26c01e85f0747a",
            "dd5960a65ceb46b0b46987392b0e440c"
          ]
        },
        "id": "9db0c2dc",
        "outputId": "0be5c1a1-898d-4538-cabe-8d03ef76e19f",
        "execution": {
          "iopub.status.busy": "2024-03-24T08:31:15.643392Z",
          "iopub.execute_input": "2024-03-24T08:31:15.644741Z",
          "iopub.status.idle": "2024-03-24T08:31:23.818939Z",
          "shell.execute_reply.started": "2024-03-24T08:31:15.644703Z",
          "shell.execute_reply": "2024-03-24T08:31:23.817920Z"
        },
        "trusted": true
      },
      "execution_count": null,
      "outputs": [
        {
          "output_type": "display_data",
          "data": {
            "text/plain": "model.safetensors:   0%|          | 0.00/1.12G [00:00<?, ?B/s]",
            "application/vnd.jupyter.widget-view+json": {
              "version_major": 2,
              "version_minor": 0,
              "model_id": "dd5960a65ceb46b0b46987392b0e440c"
            }
          },
          "metadata": {}
        },
        {
          "name": "stdout",
          "text": "trainable params: 257003520 || all params: 408219648 || trainable%: 62.96\n",
          "output_type": "stream"
        }
      ],
      "id": "9db0c2dc"
    },
    {
      "cell_type": "code",
      "source": [
        "model.get_memory_footprint()#665444352"
      ],
      "metadata": {
        "papermill": {
          "duration": 0.034098,
          "end_time": "2024-01-20T17:55:16.199496",
          "exception": false,
          "start_time": "2024-01-20T17:55:16.165398",
          "status": "completed"
        },
        "tags": [],
        "id": "d7b1ea89",
        "outputId": "498faec2-12da-479f-990c-b7d1aeda010e",
        "execution": {
          "iopub.status.busy": "2024-03-24T08:31:27.378339Z",
          "iopub.execute_input": "2024-03-24T08:31:27.379284Z",
          "iopub.status.idle": "2024-03-24T08:31:27.387584Z",
          "shell.execute_reply.started": "2024-03-24T08:31:27.379250Z",
          "shell.execute_reply": "2024-03-24T08:31:27.386584Z"
        },
        "trusted": true
      },
      "execution_count": null,
      "outputs": [
        {
          "execution_count": 31,
          "output_type": "execute_result",
          "data": {
            "text/plain": "665444352"
          },
          "metadata": {}
        }
      ],
      "id": "d7b1ea89"
    },
    {
      "cell_type": "code",
      "source": [
        "from peft import LoraConfig, get_peft_model\n",
        "\n",
        "use_peft=True\n",
        "\n",
        "peft_config=LoraConfig(\n",
        "    r=64,\n",
        "    lora_alpha=16,\n",
        "    bias=\"none\",\n",
        "    task_type=\"CAUSAL_LM\",\n",
        "    target_modules=[\"query_key_value\"]\n",
        ")\n",
        "\n",
        "peft_model=get_peft_model(model,peft_config)\n",
        "peft_model.print_trainable_parameters()"
      ],
      "metadata": {
        "papermill": {
          "duration": 0.169867,
          "end_time": "2024-01-20T17:55:16.390545",
          "exception": false,
          "start_time": "2024-01-20T17:55:16.220678",
          "status": "completed"
        },
        "tags": [],
        "id": "175e12c5",
        "outputId": "e2b66ce5-20d7-473e-e643-7a3d6aa1f79a",
        "execution": {
          "iopub.status.busy": "2024-03-24T08:31:33.352342Z",
          "iopub.execute_input": "2024-03-24T08:31:33.352738Z",
          "iopub.status.idle": "2024-03-24T08:31:33.520594Z",
          "shell.execute_reply.started": "2024-03-24T08:31:33.352709Z",
          "shell.execute_reply": "2024-03-24T08:31:33.519663Z"
        },
        "trusted": true
      },
      "execution_count": null,
      "outputs": [
        {
          "name": "stdout",
          "text": "trainable params: 6,291,456 || all params: 565,506,048 || trainable%: 1.112535581582321\n",
          "output_type": "stream"
        }
      ],
      "id": "175e12c5"
    },
    {
      "cell_type": "code",
      "source": [
        "peft_model.get_memory_footprint()"
      ],
      "metadata": {
        "papermill": {
          "duration": 0.034206,
          "end_time": "2024-01-20T17:55:16.446687",
          "exception": false,
          "start_time": "2024-01-20T17:55:16.412481",
          "status": "completed"
        },
        "tags": [],
        "id": "3d2540fc",
        "outputId": "7ff222a1-a798-4f5c-a352-2e3cde0a23be",
        "execution": {
          "iopub.status.busy": "2024-03-24T08:31:38.365520Z",
          "iopub.execute_input": "2024-03-24T08:31:38.365939Z",
          "iopub.status.idle": "2024-03-24T08:31:38.377403Z",
          "shell.execute_reply.started": "2024-03-24T08:31:38.365907Z",
          "shell.execute_reply": "2024-03-24T08:31:38.375953Z"
        },
        "trusted": true
      },
      "execution_count": null,
      "outputs": [
        {
          "execution_count": 33,
          "output_type": "execute_result",
          "data": {
            "text/plain": "690610176"
          },
          "metadata": {}
        }
      ],
      "id": "3d2540fc"
    },
    {
      "cell_type": "code",
      "source": [
        "from transformers import TrainingArguments, Trainer\n",
        "from trl import SFTTrainer\n",
        "\n",
        "training_args=TrainingArguments(\n",
        "    output_dir=os.getenv(\"WANDB_NAME\"),\n",
        "    per_device_train_batch_size=8,\n",
        "    gradient_accumulation_steps=8,\n",
        "    learning_rate=1.4e-5,\n",
        "    num_train_epochs=4,\n",
        "    max_steps=-1,\n",
        "    report_to=\"wandb\",\n",
        "    run_name=os.getenv(\"WANDB_NAME\"),\n",
        "    save_steps=100,\n",
        "    logging_steps=50,\n",
        "    save_total_limit=1,\n",
        "    push_to_hub=False,\n",
        "    gradient_checkpointing=False,\n",
        "    evaluation_strategy=\"epoch\",\n",
        "    lr_scheduler_type = \"cosine\",\n",
        "    fp16=True\n",
        ")\n",
        "\n",
        "sft_trainer=SFTTrainer(\n",
        "    model=peft_model,\n",
        "    args=training_args,\n",
        "    max_seq_length=256,\n",
        "    train_dataset=train_dataset,\n",
        "    eval_dataset = eval_dataset,\n",
        "    dataset_text_field=\"content\",\n",
        "    tokenizer=tokenizer\n",
        ")\n",
        "\n",
        "sft_trainer.train()"
      ],
      "metadata": {
        "papermill": {
          "duration": 22292.063552,
          "end_time": "2024-01-21T00:06:48.531850",
          "exception": false,
          "start_time": "2024-01-20T17:55:16.468298",
          "status": "completed"
        },
        "tags": [],
        "colab": {
          "referenced_widgets": [
            "6677e96397e248628ee7633c5ebb6c66",
            "8cf7062e8f9c485dacb239a2753cb5d2",
            "f0c9214b66bc41c2ac74fcc749f20e6e",
            "48e57cecea9b4717a0cc827e95cb8d62"
          ]
        },
        "id": "b890786e",
        "outputId": "c7efa6fa-2283-42c4-b47d-f48daf4e668e",
        "execution": {
          "iopub.status.busy": "2024-03-24T08:31:41.787086Z",
          "iopub.execute_input": "2024-03-24T08:31:41.788091Z",
          "iopub.status.idle": "2024-03-24T11:45:08.056714Z",
          "shell.execute_reply.started": "2024-03-24T08:31:41.788046Z",
          "shell.execute_reply": "2024-03-24T11:45:08.055574Z"
        },
        "trusted": true
      },
      "execution_count": null,
      "outputs": [
        {
          "name": "stderr",
          "text": "2024-03-24 08:31:44.215944: E external/local_xla/xla/stream_executor/cuda/cuda_dnn.cc:9261] Unable to register cuDNN factory: Attempting to register factory for plugin cuDNN when one has already been registered\n2024-03-24 08:31:44.216061: E external/local_xla/xla/stream_executor/cuda/cuda_fft.cc:607] Unable to register cuFFT factory: Attempting to register factory for plugin cuFFT when one has already been registered\n2024-03-24 08:31:44.364788: E external/local_xla/xla/stream_executor/cuda/cuda_blas.cc:1515] Unable to register cuBLAS factory: Attempting to register factory for plugin cuBLAS when one has already been registered\n",
          "output_type": "stream"
        },
        {
          "output_type": "display_data",
          "data": {
            "text/plain": "Map:   0%|          | 0/40000 [00:00<?, ? examples/s]",
            "application/vnd.jupyter.widget-view+json": {
              "version_major": 2,
              "version_minor": 0,
              "model_id": "f0c9214b66bc41c2ac74fcc749f20e6e"
            }
          },
          "metadata": {}
        },
        {
          "output_type": "display_data",
          "data": {
            "text/plain": "Map:   0%|          | 0/10000 [00:00<?, ? examples/s]",
            "application/vnd.jupyter.widget-view+json": {
              "version_major": 2,
              "version_minor": 0,
              "model_id": "48e57cecea9b4717a0cc827e95cb8d62"
            }
          },
          "metadata": {}
        },
        {
          "name": "stderr",
          "text": "/opt/conda/lib/python3.10/site-packages/trl/trainer/sft_trainer.py:282: UserWarning: You passed a tokenizer with `padding_side` not equal to `right` to the SFTTrainer. This might lead to some unexpected behaviour due to overflow issues when training a model in half-precision. You might consider adding `tokenizer.padding_side = 'right'` to your code.\n  warnings.warn(\n\u001b[34m\u001b[1mwandb\u001b[0m: Currently logged in as: \u001b[33msuryaa2910\u001b[0m (\u001b[33msuryaa2910_\u001b[0m). Use \u001b[1m`wandb login --relogin`\u001b[0m to force relogin\n",
          "output_type": "stream"
        },
        {
          "output_type": "display_data",
          "data": {
            "text/plain": "<IPython.core.display.HTML object>",
            "text/html": "Tracking run with wandb version 0.16.4"
          },
          "metadata": {}
        },
        {
          "output_type": "display_data",
          "data": {
            "text/plain": "<IPython.core.display.HTML object>",
            "text/html": "Run data is saved locally in <code>/kaggle/working/wandb/run-20240324_083205-8fpg91nk</code>"
          },
          "metadata": {}
        },
        {
          "output_type": "display_data",
          "data": {
            "text/plain": "<IPython.core.display.HTML object>",
            "text/html": "Syncing run <strong><a href='https://wandb.ai/suryaa2910_/Text%20generation%20using%20LORA/runs/8fpg91nk' target=\"_blank\">Model-text-generation</a></strong> to <a href='https://wandb.ai/suryaa2910_/Text%20generation%20using%20LORA' target=\"_blank\">Weights & Biases</a> (<a href='https://wandb.me/run' target=\"_blank\">docs</a>)<br/>"
          },
          "metadata": {}
        },
        {
          "output_type": "display_data",
          "data": {
            "text/plain": "<IPython.core.display.HTML object>",
            "text/html": " View project at <a href='https://wandb.ai/suryaa2910_/Text%20generation%20using%20LORA' target=\"_blank\">https://wandb.ai/suryaa2910_/Text%20generation%20using%20LORA</a>"
          },
          "metadata": {}
        },
        {
          "output_type": "display_data",
          "data": {
            "text/plain": "<IPython.core.display.HTML object>",
            "text/html": " View run at <a href='https://wandb.ai/suryaa2910_/Text%20generation%20using%20LORA/runs/8fpg91nk' target=\"_blank\">https://wandb.ai/suryaa2910_/Text%20generation%20using%20LORA/runs/8fpg91nk</a>"
          },
          "metadata": {}
        },
        {
          "name": "stderr",
          "text": "You're using a BloomTokenizerFast tokenizer. Please note that with a fast tokenizer, using the `__call__` method is faster than using a method to encode the text followed by a call to the `pad` method to get a padded encoding.\n",
          "output_type": "stream"
        },
        {
          "output_type": "display_data",
          "data": {
            "text/plain": "<IPython.core.display.HTML object>",
            "text/html": "\n    <div>\n      \n      <progress value='2500' max='2500' style='width:300px; height:20px; vertical-align: middle;'></progress>\n      [2500/2500 3:12:25, Epoch 4/4]\n    </div>\n    <table border=\"1\" class=\"dataframe\">\n  <thead>\n <tr style=\"text-align: left;\">\n      <th>Epoch</th>\n      <th>Training Loss</th>\n      <th>Validation Loss</th>\n    </tr>\n  </thead>\n  <tbody>\n    <tr>\n      <td>1</td>\n      <td>3.663400</td>\n      <td>3.674450</td>\n    </tr>\n    <tr>\n      <td>2</td>\n      <td>3.673400</td>\n      <td>3.660413</td>\n    </tr>\n    <tr>\n      <td>3</td>\n      <td>3.642600</td>\n      <td>3.656160</td>\n    </tr>\n    <tr>\n      <td>4</td>\n      <td>3.644400</td>\n      <td>3.655707</td>\n    </tr>\n  </tbody>\n</table><p>"
          },
          "metadata": {}
        },
        {
          "execution_count": 34,
          "output_type": "execute_result",
          "data": {
            "text/plain": "TrainOutput(global_step=2500, training_loss=3.6730463256835937, metrics={'train_runtime': 11584.6193, 'train_samples_per_second': 13.811, 'train_steps_per_second': 0.216, 'total_flos': 5.254087777419264e+16, 'train_loss': 3.6730463256835937, 'epoch': 4.0})"
          },
          "metadata": {}
        }
      ],
      "id": "b890786e"
    },
    {
      "cell_type": "code",
      "source": [
        "import matplotlib.pyplot as plt\n",
        "\n",
        "x1 = [1, 2, 3, 4]\n",
        "y1 = [3.663400,3.673400,3.642600,3.644400]\n",
        "\n",
        "\n",
        "x2 = [1, 2, 3, 4]\n",
        "y2 = [3.674450,3.660413,3.656160,3.655707]\n",
        "\n",
        "\n",
        "plt.figure(figsize=(10, 5))\n",
        "plt.subplot(1, 2, 1)\n",
        "plt.plot(x1, y1)\n",
        "plt.title('Training Loss')\n",
        "\n",
        "plt.subplot(1, 2, 2)\n",
        "plt.plot(x2, y2)\n",
        "plt.title('Validation Loss')\n",
        "plt.tight_layout()\n",
        "plt.show()\n"
      ],
      "metadata": {
        "execution": {
          "iopub.status.busy": "2024-03-24T11:58:09.096117Z",
          "iopub.execute_input": "2024-03-24T11:58:09.096539Z",
          "iopub.status.idle": "2024-03-24T11:58:09.564890Z",
          "shell.execute_reply.started": "2024-03-24T11:58:09.096499Z",
          "shell.execute_reply": "2024-03-24T11:58:09.563684Z"
        },
        "trusted": true,
        "id": "B_92GjjdwNEl",
        "outputId": "3b3e907a-dae0-4faf-d833-65356ec03604"
      },
      "execution_count": null,
      "outputs": [
        {
          "output_type": "display_data",
          "data": {
            "text/plain": "<Figure size 1000x500 with 2 Axes>",
            "image/png": "[encoded data removed]"
          },
          "metadata": {}
        }
      ],
      "id": "B_92GjjdwNEl"
    },
    {
      "cell_type": "code",
      "source": [
        "results = sft_trainer.evaluate()\n",
        "print(results)"
      ],
      "metadata": {
        "papermill": {
          "duration": 198.540862,
          "end_time": "2024-01-21T00:10:07.096578",
          "exception": false,
          "start_time": "2024-01-21T00:06:48.555716",
          "status": "completed"
        },
        "tags": [],
        "id": "3c4682b9",
        "outputId": "287ac663-e120-4825-ea6e-e488fe4a40a5",
        "execution": {
          "iopub.status.busy": "2024-03-24T11:45:26.145966Z",
          "iopub.execute_input": "2024-03-24T11:45:26.146330Z",
          "iopub.status.idle": "2024-03-24T11:50:03.763617Z",
          "shell.execute_reply.started": "2024-03-24T11:45:26.146301Z",
          "shell.execute_reply": "2024-03-24T11:50:03.762599Z"
        },
        "trusted": true
      },
      "execution_count": null,
      "outputs": [
        {
          "output_type": "display_data",
          "data": {
            "text/plain": "<IPython.core.display.HTML object>",
            "text/html": "\n    <div>\n      \n      <progress value='1250' max='1250' style='width:300px; height:20px; vertical-align: middle;'></progress>\n      [1250/1250 04:37]\n    </div>\n    "
          },
          "metadata": {}
        },
        {
          "name": "stdout",
          "text": "{'eval_loss': 3.6557071208953857, 'eval_runtime': 277.6066, 'eval_samples_per_second': 36.022, 'eval_steps_per_second': 4.503, 'epoch': 4.0}\n",
          "output_type": "stream"
        }
      ],
      "id": "3c4682b9"
    },
    {
      "cell_type": "code",
      "source": [
        "import numpy as np\n",
        "def perplexity(eval_output):\n",
        "    return np.exp(eval_output)"
      ],
      "metadata": {
        "id": "H175jOpz07Rl",
        "execution": {
          "iopub.status.busy": "2024-03-24T11:50:19.890342Z",
          "iopub.execute_input": "2024-03-24T11:50:19.890735Z",
          "iopub.status.idle": "2024-03-24T11:50:19.896909Z",
          "shell.execute_reply.started": "2024-03-24T11:50:19.890704Z",
          "shell.execute_reply": "2024-03-24T11:50:19.895768Z"
        },
        "trusted": true
      },
      "execution_count": null,
      "outputs": [],
      "id": "H175jOpz07Rl"
    },
    {
      "cell_type": "code",
      "source": [
        "perplexity(results['eval_loss'])"
      ],
      "metadata": {
        "colab": {
          "base_uri": "https://localhost:8080/"
        },
        "id": "ZVxUG7VA3MJd",
        "outputId": "2521106a-ce4b-405e-8529-d5911e63013b",
        "execution": {
          "iopub.status.busy": "2024-03-24T11:50:24.078383Z",
          "iopub.execute_input": "2024-03-24T11:50:24.078748Z",
          "iopub.status.idle": "2024-03-24T11:50:24.090791Z",
          "shell.execute_reply.started": "2024-03-24T11:50:24.078719Z",
          "shell.execute_reply": "2024-03-24T11:50:24.089611Z"
        },
        "trusted": true
      },
      "execution_count": null,
      "outputs": [
        {
          "execution_count": 37,
          "output_type": "execute_result",
          "data": {
            "text/plain": "38.694873396859926"
          },
          "metadata": {}
        }
      ],
      "id": "ZVxUG7VA3MJd"
    },
    {
      "cell_type": "code",
      "source": [
        "del sft_trainer, tokenizer\n",
        "torch.cuda.empty_cache()"
      ],
      "metadata": {
        "papermill": {
          "duration": 0.381417,
          "end_time": "2024-01-21T00:10:12.198159",
          "exception": false,
          "start_time": "2024-01-21T00:10:11.816742",
          "status": "completed"
        },
        "tags": [],
        "id": "1095c75a",
        "execution": {
          "iopub.status.busy": "2024-03-24T11:50:43.399604Z",
          "iopub.execute_input": "2024-03-24T11:50:43.399984Z",
          "iopub.status.idle": "2024-03-24T11:50:43.844053Z",
          "shell.execute_reply.started": "2024-03-24T11:50:43.399957Z",
          "shell.execute_reply": "2024-03-24T11:50:43.842976Z"
        },
        "trusted": true
      },
      "execution_count": null,
      "outputs": [],
      "id": "1095c75a"
    },
    {
      "cell_type": "code",
      "source": [
        "from transformers import AutoTokenizer\n",
        "\n",
        "tokenizer=AutoTokenizer.from_pretrained(peft_config.base_model_name_or_path)"
      ],
      "metadata": {
        "papermill": {
          "duration": 0.993302,
          "end_time": "2024-01-21T00:10:16.681710",
          "exception": false,
          "start_time": "2024-01-21T00:10:15.688408",
          "status": "completed"
        },
        "tags": [],
        "id": "b771e15f",
        "execution": {
          "iopub.status.busy": "2024-03-24T11:50:55.026446Z",
          "iopub.execute_input": "2024-03-24T11:50:55.027342Z",
          "iopub.status.idle": "2024-03-24T11:50:55.977130Z",
          "shell.execute_reply.started": "2024-03-24T11:50:55.027308Z",
          "shell.execute_reply": "2024-03-24T11:50:55.976022Z"
        },
        "trusted": true
      },
      "execution_count": null,
      "outputs": [],
      "id": "b771e15f"
    },
    {
      "cell_type": "code",
      "source": [
        "prompt=\"I good in football but\"\n",
        "inputs=tokenizer(prompt, return_tensors=\"pt\")"
      ],
      "metadata": {
        "papermill": {
          "duration": 0.031085,
          "end_time": "2024-01-21T00:10:16.736404",
          "exception": false,
          "start_time": "2024-01-21T00:10:16.705319",
          "status": "completed"
        },
        "tags": [],
        "id": "32b2c432",
        "execution": {
          "iopub.status.busy": "2024-03-24T11:51:00.603931Z",
          "iopub.execute_input": "2024-03-24T11:51:00.604294Z",
          "iopub.status.idle": "2024-03-24T11:51:00.610611Z",
          "shell.execute_reply.started": "2024-03-24T11:51:00.604266Z",
          "shell.execute_reply": "2024-03-24T11:51:00.609593Z"
        },
        "trusted": true
      },
      "execution_count": null,
      "outputs": [],
      "id": "32b2c432"
    },
    {
      "cell_type": "code",
      "source": [
        "outputs=peft_model.generate(**inputs)"
      ],
      "metadata": {
        "papermill": {
          "duration": 2.108657,
          "end_time": "2024-01-21T00:10:18.868286",
          "exception": false,
          "start_time": "2024-01-21T00:10:16.759629",
          "status": "completed"
        },
        "tags": [],
        "id": "b6569cb6",
        "outputId": "f9291b6a-31cf-452b-be06-12af88bb7287",
        "execution": {
          "iopub.status.busy": "2024-03-24T11:51:05.642924Z",
          "iopub.execute_input": "2024-03-24T11:51:05.643276Z",
          "iopub.status.idle": "2024-03-24T11:51:06.745772Z",
          "shell.execute_reply.started": "2024-03-24T11:51:05.643249Z",
          "shell.execute_reply": "2024-03-24T11:51:06.744831Z"
        },
        "trusted": true
      },
      "execution_count": null,
      "outputs": [
        {
          "name": "stderr",
          "text": "/opt/conda/lib/python3.10/site-packages/transformers/generation/utils.py:1355: UserWarning: Using the model-agnostic default `max_length` (=20) to control the generation length. We recommend setting `max_new_tokens` to control the maximum length of the generation.\n  warnings.warn(\n/opt/conda/lib/python3.10/site-packages/transformers/generation/utils.py:1636: UserWarning: You are calling .generate() with the `input_ids` being on a device type different than your model's device. `input_ids` is on cpu, whereas the model is on cuda. You may experience unexpected behaviors or slower generation. Please make sure that you have put `input_ids` to the correct device by calling for example input_ids = input_ids.to('cuda') before running `.generate()`.\n  warnings.warn(\n",
          "output_type": "stream"
        }
      ],
      "id": "b6569cb6"
    },
    {
      "cell_type": "code",
      "source": [
        "tokenizer.batch_decode(outputs, skip_special_token=True)"
      ],
      "metadata": {
        "papermill": {
          "duration": 0.032938,
          "end_time": "2024-01-21T00:10:18.926302",
          "exception": false,
          "start_time": "2024-01-21T00:10:18.893364",
          "status": "completed"
        },
        "tags": [],
        "id": "fdb7e6b2",
        "outputId": "94a15ae4-b937-4c53-983f-73888b3c9374",
        "execution": {
          "iopub.status.busy": "2024-03-24T11:51:14.038939Z",
          "iopub.execute_input": "2024-03-24T11:51:14.039300Z",
          "iopub.status.idle": "2024-03-24T11:51:14.048243Z",
          "shell.execute_reply.started": "2024-03-24T11:51:14.039273Z",
          "shell.execute_reply": "2024-03-24T11:51:14.046913Z"
        },
        "trusted": true
      },
      "execution_count": null,
      "outputs": [
        {
          "execution_count": 44,
          "output_type": "execute_result",
          "data": {
            "text/plain": "[\"I good in football but I don't like the game. I like the game but I don't like the\"]"
          },
          "metadata": {}
        }
      ],
      "id": "fdb7e6b2"
    }
  ]
}